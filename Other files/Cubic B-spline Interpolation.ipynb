{
 "cells": [
  {
   "cell_type": "code",
   "execution_count": 1,
   "id": "c20a3c52",
   "metadata": {},
   "outputs": [
    {
     "ename": "ModuleNotFoundError",
     "evalue": "No module named 'matplotlib'",
     "output_type": "error",
     "traceback": [
      "\u001b[0;31m---------------------------------------------------------------------------\u001b[0m",
      "\u001b[0;31mModuleNotFoundError\u001b[0m                       Traceback (most recent call last)",
      "Cell \u001b[0;32mIn[1], line 2\u001b[0m\n\u001b[1;32m      1\u001b[0m \u001b[39mimport\u001b[39;00m \u001b[39mos\u001b[39;00m\n\u001b[0;32m----> 2\u001b[0m \u001b[39mimport\u001b[39;00m \u001b[39mmatplotlib\u001b[39;00m\u001b[39m.\u001b[39;00m\u001b[39mpyplot\u001b[39;00m \u001b[39mas\u001b[39;00m \u001b[39mplt\u001b[39;00m\n\u001b[1;32m      3\u001b[0m \u001b[39mimport\u001b[39;00m \u001b[39mnumpy\u001b[39;00m \u001b[39mas\u001b[39;00m \u001b[39mnp\u001b[39;00m\n\u001b[1;32m      4\u001b[0m \u001b[39mfrom\u001b[39;00m \u001b[39mPIL\u001b[39;00m \u001b[39mimport\u001b[39;00m Image\n",
      "\u001b[0;31mModuleNotFoundError\u001b[0m: No module named 'matplotlib'"
     ]
    }
   ],
   "source": [
    "import os\n",
    "import matplotlib.pyplot as plt\n",
    "import numpy as np\n",
    "from PIL import Image"
   ]
  },
  {
   "cell_type": "code",
   "execution_count": null,
   "id": "4caeb3ed",
   "metadata": {},
   "outputs": [],
   "source": []
  },
  {
   "cell_type": "code",
   "execution_count": null,
   "id": "3bd3d8d0",
   "metadata": {},
   "outputs": [
    {
     "name": "stdout",
     "output_type": "stream",
     "text": [
      "Enter the file name of data: example.txt\n"
     ]
    }
   ],
   "source": [
    "# Set up the paths for input data\n",
    "BASE_PATH = os.path.abspath('.')\n",
    "DATA_PATH = os.path.join(BASE_PATH, 'data')\n",
    "data_file = str(input(\"Enter the file name of data: \"))\n",
    "DATA_FILE_PATH = os.path.join(DATA_PATH,data_file)\n"
   ]
  },
  {
   "cell_type": "code",
   "execution_count": null,
   "id": "6e032d14",
   "metadata": {},
   "outputs": [
    {
     "name": "stdout",
     "output_type": "stream",
     "text": [
      "[(0.0, 0.0), (10.0, 125.0), (31.0, 577.0), (68.0, 1275.0), (98.0, 2551.0), (125.0, 4438.0), (155.0, 6921.0), (194.0, 9473.0), (239.0, 10456.0), (300.0, 12412.0), (330.0, 13594.0)]\n"
     ]
    }
   ],
   "source": [
    "content = []\n",
    "x_data = []\n",
    "y_data= []\n",
    "\n",
    "with open(DATA_FILE_PATH, 'rt') as dataLines:\n",
    "    for each in dataLines:\n",
    "        pointsData = list(map(float,each.strip().split(' ')))\n",
    "        x_data.append(pointsData[0])\n",
    "        y_data.append(pointsData[1])\n",
    "        content.append(tuple(pointsData))\n",
    "        \n",
    "print(content)\n",
    "# print(x_data)\n",
    "# print(y_data)"
   ]
  },
  {
   "cell_type": "code",
   "execution_count": null,
   "id": "1a93091b",
   "metadata": {},
   "outputs": [],
   "source": [
    "def euclidean_distance(d1, d2):\n",
    "    n = len(d1)\n",
    "    sum = 0\n",
    "    for i in range(n):\n",
    "        sum +=(d1[i]-d2[i])**2\n",
    "    return sum**0.5"
   ]
  },
  {
   "cell_type": "code",
   "execution_count": null,
   "id": "e2b919cf",
   "metadata": {},
   "outputs": [],
   "source": [
    "def set_knots(param_list, degree):\n",
    "    \"\"\"sets the B-spline knots\n",
    "    :param param_list:\n",
    "    :param degree:\n",
    "    :return:\n",
    "    \"\"\"\n",
    "    t0 = [0.] * degree\n",
    "#     print(t0)\n",
    "    tn = [1.] * degree\n",
    "#     print(tn)\n",
    "    knots_list = t0 + param_list + tn\n",
    "#     print(knots_list)\n",
    "    return knots_list"
   ]
  },
  {
   "cell_type": "code",
   "execution_count": null,
   "id": "6999c5e0",
   "metadata": {},
   "outputs": [],
   "source": [
    "def evaluate(t, u, i, j):\n",
    "    \"\"\"evaluates the element of the N basis matrix\n",
    "    :param t:\n",
    "    :param u:\n",
    "    :param i:\n",
    "    :param j: \n",
    "    :return: N value\n",
    "    \"\"\"\n",
    "    val = 0.\n",
    "\n",
    "    if u[j] <= t[i] <= u[j + 1] and (t[i] != u[j] or t[i] != u[j + 1]):\n",
    "        try:\n",
    "            val = (t[i] - u[j]) ** 3 / ((u[j + 1] - u[j]) * (u[j + 2] - u[j]) * (u[j + 3] - u[j]))\n",
    "        except ZeroDivisionError:\n",
    "            val = 0.\n",
    "\n",
    "    elif u[j + 1] <= t[i] < u[j + 2]:\n",
    "        try:\n",
    "            val = ((t[i] - u[j]) ** 2 * (u[j + 2] - t[i])) / (\n",
    "                    (u[j + 2] - u[j + 1]) * (u[j + 3] - u[j]) * (u[j + 2] - u[j])) + \\\n",
    "                  ((u[j + 3] - t[i]) * (t[i] - u[j]) * (t[i] - u[j + 1])) / (\n",
    "                    (u[j + 2] - u[j + 1]) * (u[j + 3] - u[j + 1]) * (u[j + 3] - u[j])) + \\\n",
    "                  ((u[j + 4] - t[i]) * ((t[i] - u[j + 1]) ** 2)) / (\n",
    "                    (u[j + 2] - u[j + 1]) * (u[j + 4] - u[j + 1]) * (u[j + 3] - u[j + 1]))\n",
    "        except ZeroDivisionError:\n",
    "            val = 0.\n",
    "\n",
    "    elif u[j + 2] <= t[i] < u[j + 3]:\n",
    "        try:\n",
    "            val = ((t[i] - u[j]) * (u[j + 3] - t[i]) ** 2) / (\n",
    "                    (u[j + 3] - u[j + 2]) * (u[j + 3] - u[j + 1]) * (u[j + 3] - u[j])) + \\\n",
    "                  ((u[j + 4] - t[i]) * (u[j + 3] - t[i]) * (t[i] - u[j + 1])) / (\n",
    "                    (u[j + 3] - u[j + 2]) * (u[j + 4] - u[j + 1]) * (u[j + 3] - u[j + 1])) + \\\n",
    "                  ((u[j + 4] - t[i]) ** 2 * (t[i] - u[j + 2])) / (\n",
    "                    (u[j + 3] - u[j + 2]) * (u[j + 4] - u[j + 2]) * (u[j + 4] - u[j + 1]))\n",
    "        except ZeroDivisionError:\n",
    "            val = 0.\n",
    "\n",
    "    elif u[j + 3] <= t[i] <= u[j + 4] and (t[i] != u[j + 3] or t[i] != u[j + 4]):\n",
    "        try:\n",
    "            val = (u[j + 4] - t[i]) ** 3 / (\n",
    "                    (u[j + 4] - u[j + 3]) * (u[j + 4] - u[j + 2]) * (u[j + 4] - u[j + 1]))\n",
    "        except ZeroDivisionError:\n",
    "            val = 0.\n",
    "\n",
    "    return val"
   ]
  },
  {
   "cell_type": "code",
   "execution_count": null,
   "id": "775db0f4",
   "metadata": {},
   "outputs": [],
   "source": [
    "def endpoints(t, u, i, j):\n",
    "    \"\"\"endpoints conditions\n",
    "    :param t:\n",
    "    :param u:\n",
    "    :param i:\n",
    "    :param j:\n",
    "    :return:\n",
    "    \"\"\"\n",
    "    val_ = 0.\n",
    "\n",
    "    if u[j] <= t[i] <= u[j + 1] and (t[i] != u[j] or t[i] != u[j + 1]):\n",
    "        try:\n",
    "            val_ = 6 * (t[i] - u[j]) / ((u[j + 1] - u[j]) * (u[j + 2] - u[j]) * (u[j + 3] - u[j]))\n",
    "        except ZeroDivisionError:\n",
    "            val_ = 0.\n",
    "\n",
    "    elif u[j + 1] <= t[i] <= u[j + 2] and (t[i] != u[j + 1] or t[i] != u[j + 2]):\n",
    "        try:\n",
    "            val_ = (2 * (u[j + 2] - t[i]) - 4 * (t[i] - u[j])) / (\n",
    "                    (u[j + 2] - u[j + 1]) * (u[j + 3] - u[j]) * (u[j + 2] - u[j])) + \\\n",
    "                   (2 * u[j] - 6 * t[i] + 2 * u[j + 1] + 2 * u[j + 3]) / (\n",
    "                    (u[j + 2] - u[j + 1]) * (u[j + 3] - u[j + 1]) * (u[j + 3] - u[j])) + \\\n",
    "                   (4 * u[j + 1] - 6 * t[i] + 2 * u[j + 4]) / (\n",
    "                    (u[j + 2] - u[j + 1]) * (u[j + 4] - u[j + 1]) * (u[j + 3] - u[j + 1]))\n",
    "        except ZeroDivisionError:\n",
    "            val_ = 0.\n",
    "\n",
    "    elif u[j + 2] <= t[i] <= u[j + 3] and (t[i] != u[j + 2] or t[i] != u[j + 3]):\n",
    "        try:\n",
    "            val_ = (6 * t[i] - 2 * u[j] - 4 * u[j + 3]) / (\n",
    "                    (u[j + 3] - u[j + 2]) * (u[j + 3] - u[j + 1]) * (u[j + 3] - u[j])) + \\\n",
    "                   (6 * t[i] - 2 * u[j + 1] - 2 * u[j + 3] - 2 * u[j + 4]) / (\n",
    "                    (u[j + 3] - u[j + 2]) * (u[j + 4] - u[j + 1]) * (u[j + 3] - u[j + 1])) + \\\n",
    "                   (6 * t[i] - 2 * u[j + 2] - 4 * u[j + 4]) / (\n",
    "                    (u[j + 3] - u[j + 2]) * (u[j + 4] - u[j + 2]) * (u[j + 4] - u[j + 1]))\n",
    "        except ZeroDivisionError:\n",
    "            val_ = 0.\n",
    "\n",
    "    elif u[j + 3] <= t[i] <= u[j + 4] and (t[i] != u[j + 3] or t[i] != u[j + 4]):\n",
    "        try:\n",
    "            val_ = 6 * (u[j + 4] - t[i]) / (\n",
    "                    (u[j + 4] - u[j + 3]) * (u[j + 4] - u[j + 2]) * (u[j + 4] - u[j + 1]))\n",
    "        except ZeroDivisionError:\n",
    "            val_ = 0.\n",
    "\n",
    "    return val_"
   ]
  },
  {
   "cell_type": "code",
   "execution_count": null,
   "id": "15f7096c",
   "metadata": {},
   "outputs": [],
   "source": [
    "def zeros_matrix(rows, cols):\n",
    "    M = []\n",
    "    while len(M) < rows:\n",
    "        M.append([])\n",
    "        while len(M[-1]) < cols:\n",
    "            M[-1].append(0.0)\n",
    "\n",
    "    return M"
   ]
  },
  {
   "cell_type": "code",
   "execution_count": null,
   "id": "526ad056",
   "metadata": {},
   "outputs": [],
   "source": [
    "def basis(params_list, knots_list):\n",
    "    \"\"\"Cubic B-spline basis\n",
    "    :param params_list:\n",
    "    :param knots_list:\n",
    "    :return: basis matrix\n",
    "    \"\"\"\n",
    "    n = len(params_list) - 1\n",
    "    cnt_num = n + 3  # control points\n",
    "    basis_mat = zeros_matrix(cnt_num, cnt_num)\n",
    "#     print(basis_mat)\n",
    "#     print(\"-------\")\n",
    "\n",
    "    for i in range(n + 1):\n",
    "        for j in range(n + 3):\n",
    "            basis_mat[i + 1][j] = evaluate(params_list, knots_list, i, j)\n",
    "#     print(basis_mat)\n",
    "#     print(\"-------\")\n",
    "    for i in range(2):\n",
    "        for j in range(n + 3):\n",
    "            basis_mat[i * (n + 2)][j] = endpoints(params_list, knots_list, i * n, j)\n",
    "#     print(basis_mat)\n",
    "#     print(basis_mat)\n",
    "    return basis_mat"
   ]
  },
  {
   "cell_type": "code",
   "execution_count": null,
   "id": "a6583694",
   "metadata": {},
   "outputs": [
    {
     "name": "stdout",
     "output_type": "stream",
     "text": [
      "[0.0, 0.009221047842095306, 0.042494020310348525, 0.0938924297547158, 0.18774704227214803, 0.3265188675510278, 0.5091157525025775, 0.6967950312204402, 0.7691541141015229, 0.9130554704741942, 1]\n",
      "[0.0, 0.0, 0.0, 0.0, 0.009221047842095306, 0.042494020310348525, 0.0938924297547158, 0.18774704227214803, 0.3265188675510278, 0.5091157525025775, 0.6967950312204402, 0.7691541141015229, 0.9130554704741942, 1, 1.0, 1.0, 1.0]\n"
     ]
    }
   ],
   "source": [
    "type_ = 'chord'\n",
    "n = len(content)\n",
    "# print(n)\n",
    "# print(content)\n",
    "t = [0.] * n\n",
    "# print(t)\n",
    "# print(len(t))\n",
    "# print([0.0, 0.08595808541823045, 0.1991936114627612, 0.30543744532009176, 0.3898853092121142, 0.4999999993548314, 0.6101146884126033, 0.6945625525897042, 0.800806387473565, 0.9140419140810072, 1.0])\n",
    "if type_ == 'chord':\n",
    "    denominator = 0\n",
    "    for k in range(1, n):\n",
    "        denominator += euclidean_distance(content[k], content[k - 1])\n",
    "    for i in range(1, n):\n",
    "        numerator = 0\n",
    "        for k in range(1, i + 1):\n",
    "            numerator += euclidean_distance(content[k], content[k - 1])\n",
    "        t[i] = numerator / denominator\n",
    "elif type_ == 'uniform':\n",
    "    for i in range(1, n):\n",
    "        t[i] = i / n\n",
    "\n",
    "else:\n",
    "    msg = \"Parameterization method doesn't exist\"\n",
    "    raise LookupError(msg)\n",
    "# print(t)\n",
    "t[-1] = 1\n",
    "print(t)\n",
    "# print(len(t))\n",
    "k = set_knots(t, 3)\n",
    "# print(t)\n",
    "print(k)\n",
    "\n",
    "basis_mat = basis(t,k)\n",
    "\n",
    "# print(basis_mat)"
   ]
  },
  {
   "cell_type": "code",
   "execution_count": null,
   "id": "c4da5fed",
   "metadata": {},
   "outputs": [],
   "source": [
    "def tridiag_solver(a, b, c, d):\n",
    "    \"\"\" Tri-diagonal matrix solver, a b c d can be NumPy array type or Python list type.\n",
    "    refer to http://en.wikipedia.org/wiki/Tridiagonal_matrix_algorithm\n",
    "    and to https://gist.github.com/cbellei/8ab3ab8551b8dfc8b081c518ccd9ada9\n",
    "    :param a: lower diagonal\n",
    "    :param b: main diagonal\n",
    "    :param c: upper diagnoal\n",
    "    :param d: right hand side of the system\n",
    "    :return: solution of the system\n",
    "    \"\"\"\n",
    "    nf = len(d)\n",
    "    ac, bc, cc, dc = map(list, (a, b, c, d))\n",
    "    for it in range(1, nf):\n",
    "        mc = ac[it-1]/bc[it-1]\n",
    "        bc[it] = bc[it] - mc*cc[it-1]\n",
    "        dc[it] = dc[it] - mc*dc[it-1]\n",
    "\n",
    "    xc = bc\n",
    "    xc[-1] = dc[-1]/bc[-1]\n",
    "\n",
    "    for il in range(nf-2, -1, -1):\n",
    "        xc[il] = (dc[il]-cc[il]*xc[il+1])/bc[il]\n",
    "#     print((xc))\n",
    "    return xc\n"
   ]
  },
  {
   "cell_type": "code",
   "execution_count": null,
   "id": "340f1c65",
   "metadata": {
    "scrolled": true
   },
   "outputs": [],
   "source": [
    "control_points = []\n",
    "n = len(basis_mat[0])\n",
    "d0 = [(0,0)]\n",
    "appended_data_points = d0 + content + d0\n",
    "x = [each[0] for each in appended_data_points]\n",
    "# print(x)\n",
    "y = [each[1] for each in appended_data_points]\n",
    "# print(y)\n",
    "basis_mat[0] , basis_mat[1] = basis_mat[1], basis_mat[0]\n",
    "basis_mat[n-2], basis_mat[n-1] = basis_mat[n-1], basis_mat[n-2]\n",
    "x[0], x[1] = x[1], x[0]\n",
    "x[n - 2], x[n - 1] = x[n - 1], x[n - 2]\n",
    "y[0], y[1] = y[1], y[0]\n",
    "y[n - 2], y[n - 1] = y[n - 1], y[n - 2]\n",
    "\n",
    "lower_diag = [basis_mat[i + 1][i] for i in range(n - 1)]\n",
    "main_diag = [basis_mat[i][i] for i in range(n)]\n",
    "upper_diag = [basis_mat[i][i + 1] for i in range(n - 1)]\n",
    "\n",
    "x_control = tridiag_solver(lower_diag, main_diag, upper_diag, x)\n",
    "y_control = tridiag_solver(lower_diag, main_diag, upper_diag, y)\n",
    "\n",
    "for i in range(n):\n",
    "    control_points.append((x_control[i], y_control[i]))\n"
   ]
  },
  {
   "cell_type": "code",
   "execution_count": null,
   "id": "883f4ce3",
   "metadata": {},
   "outputs": [],
   "source": [
    "def B(x, k, i, t):\n",
    "    \"\"\"recursive definition of B-Spline curve\n",
    "    :param x:\n",
    "    :param k:\n",
    "    :param i:\n",
    "    :param t:\n",
    "    :return:\n",
    "    \"\"\"\n",
    "    if k == 0:\n",
    "        return 1.0 if t[i] <= x < t[i + 1] else 0.0\n",
    "    if t[i + k] == t[i]:\n",
    "        c1 = 0.0\n",
    "    else:\n",
    "        c1 = (x - t[i]) / (t[i + k] - t[i]) * B(x, k - 1, i, t)\n",
    "    if t[i + k + 1] == t[i + 1]:\n",
    "        c2 = 0.0\n",
    "    else:\n",
    "        c2 = (t[i + k + 1] - x) / (t[i + k + 1] - t[i + 1]) * B(x, k - 1, i + 1, t)\n",
    "    return c1 + c2"
   ]
  },
  {
   "cell_type": "code",
   "execution_count": null,
   "id": "912ee4e0",
   "metadata": {},
   "outputs": [],
   "source": [
    "def bspline(x, t, c, k):\n",
    "    \"\"\"evaluate B-Spline curve\n",
    "    :param x:\n",
    "    :param t:\n",
    "    :param c:\n",
    "    :param k:\n",
    "    :return:\n",
    "    \"\"\"\n",
    "    n = len(t) - k - 1\n",
    "    assert (n >= k + 1) and (len(c) >= n)\n",
    "    return sum(c[i] * B(x, k, i, t) for i in range(n))"
   ]
  },
  {
   "cell_type": "code",
   "execution_count": null,
   "id": "fb58ffce",
   "metadata": {},
   "outputs": [
    {
     "data": {
      "image/png": "[encoded data removed]",
      "text/plain": [
       "<Figure size 720x720 with 1 Axes>"
      ]
     },
     "metadata": {
      "needs_background": "light"
     },
     "output_type": "display_data"
    }
   ],
   "source": [
    "data_points, data_points_x, data_points_y = content, x_data, y_data\n",
    "degree, cnt_num, knots_list, control_points_x, control_points_y = 3, len(control_points), k, x_control, y_control\n",
    "# print(knots_list)\n",
    "xx = [x/100 for x in list(range(100))]\n",
    "# print(xx)\n",
    "# Define the x-axis label\n",
    "x_label = 'Time (s)'\n",
    "# Define the y-axis label\n",
    "y_label = 'Velocity (km/h)'\n",
    "fig, ax = plt.subplots(figsize=(10,10))\n",
    "x = [bspline(x, knots_list, control_points_x, degree) for x in xx]\n",
    "y = [bspline(x, knots_list, control_points_y, degree) for x in xx]\n",
    "\n",
    "ax.plot(control_points_x, control_points_y, 'k--', marker='s', markerfacecolor='r', label='Control points')\n",
    "ax.plot(data_points_x, data_points_y,' ', marker='o', markerfacecolor='b', label='Data points')\n",
    "ax.plot(x, y, 'g-', lw=2, label='B-Spline')\n",
    "# Set the x-axis label\n",
    "ax.set_xlabel(x_label)\n",
    "# Set the y-axis label\n",
    "ax.set_ylabel(y_label)\n",
    "ax.grid(True)\n",
    "ax.legend(loc='upper right')\n",
    "plt.show()"
   ]
  },
  {
   "cell_type": "code",
   "execution_count": null,
   "id": "7ceb7f63",
   "metadata": {},
   "outputs": [],
   "source": []
  }
 ],
 "metadata": {
  "kernelspec": {
   "display_name": "Python 3",
   "language": "python",
   "name": "python3"
  },
  "language_info": {
   "codemirror_mode": {
    "name": "ipython",
    "version": 3
   },
   "file_extension": ".py",
   "mimetype": "text/x-python",
   "name": "python",
   "nbconvert_exporter": "python",
   "pygments_lexer": "ipython3",
   "version": "3.11.3"
  }
 },
 "nbformat": 4,
 "nbformat_minor": 5
}
